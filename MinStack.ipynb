{
 "cells": [
  {
   "cell_type": "code",
   "execution_count": 30,
   "id": "8ce37c5b",
   "metadata": {},
   "outputs": [],
   "source": [
    "class MinStack:\n",
    "    def __init__(self):\n",
    "        self.stack = []\n",
    "        self.min = []\n",
    "    \n",
    "    @staticmethod\n",
    "    def isNull(stack):\n",
    "        return len(stack) == 0\n",
    "    \n",
    "    def push(self, val):\n",
    "        if len(self.stack) == 0 and len(self.min) == 0:\n",
    "            self.stack.append(val)\n",
    "            self.min.append(val)\n",
    "        elif val < self.min[-1]:\n",
    "            self.stack.append(val)\n",
    "            self.min.append(val)\n",
    "        else:\n",
    "            self.stack.append(val)\n",
    "    \n",
    "    def pop(self):\n",
    "        if self.isNull(self.stack):\n",
    "            return \"empty stack\"\n",
    "        \n",
    "        if self.stack[-1] == self.min[-1]:\n",
    "            self.stack.pop()\n",
    "            self.min.pop()\n",
    "        else:\n",
    "            self.stack.pop()\n",
    "    \n",
    "    def top(self):\n",
    "        if self.isNull(self.stack):\n",
    "            return \"empty stack\"\n",
    "        return self.stack[-1]\n",
    "    \n",
    "    def getMin(self):\n",
    "        if self.isNull(self.stack):\n",
    "            return \"empty stack\"\n",
    "        return self.min[-1]"
   ]
  },
  {
   "cell_type": "code",
   "execution_count": 43,
   "id": "ef7c6a83",
   "metadata": {},
   "outputs": [],
   "source": [
    "stack = MinStack()"
   ]
  },
  {
   "cell_type": "code",
   "execution_count": 44,
   "id": "cac1704f",
   "metadata": {},
   "outputs": [
    {
     "data": {
      "text/plain": [
       "'empty stack'"
      ]
     },
     "execution_count": 44,
     "metadata": {},
     "output_type": "execute_result"
    }
   ],
   "source": [
    "stack.pop()\n",
    "stack.top()\n",
    "stack.getMin()"
   ]
  },
  {
   "cell_type": "code",
   "execution_count": 45,
   "id": "179dac26",
   "metadata": {},
   "outputs": [],
   "source": [
    "stack.push(1)\n",
    "stack.push(2)\n",
    "stack.push(-1)\n",
    "stack.push(3)\n",
    "stack.push(4)\n",
    "stack.push(-2)\n",
    "stack.push(5)\n",
    "stack.push(-1)\n",
    "stack.push(6)"
   ]
  },
  {
   "cell_type": "code",
   "execution_count": 46,
   "id": "38d5700d",
   "metadata": {},
   "outputs": [
    {
     "data": {
      "text/plain": [
       "6"
      ]
     },
     "execution_count": 46,
     "metadata": {},
     "output_type": "execute_result"
    }
   ],
   "source": [
    "stack.top()"
   ]
  },
  {
   "cell_type": "code",
   "execution_count": 47,
   "id": "189d6b28",
   "metadata": {},
   "outputs": [
    {
     "data": {
      "text/plain": [
       "-2"
      ]
     },
     "execution_count": 47,
     "metadata": {},
     "output_type": "execute_result"
    }
   ],
   "source": [
    "stack.getMin()"
   ]
  },
  {
   "cell_type": "code",
   "execution_count": 53,
   "id": "f081602c",
   "metadata": {},
   "outputs": [],
   "source": [
    "stack.pop()\n",
    "stack.pop()\n",
    "stack.pop()\n",
    "stack.pop()"
   ]
  },
  {
   "cell_type": "code",
   "execution_count": 54,
   "id": "9f3a02ae",
   "metadata": {},
   "outputs": [
    {
     "data": {
      "text/plain": [
       "'empty stack'"
      ]
     },
     "execution_count": 54,
     "metadata": {},
     "output_type": "execute_result"
    }
   ],
   "source": [
    "stack.getMin()"
   ]
  },
  {
   "cell_type": "code",
   "execution_count": null,
   "id": "6a499b81",
   "metadata": {},
   "outputs": [],
   "source": []
  },
  {
   "cell_type": "code",
   "execution_count": 67,
   "id": "2642185a",
   "metadata": {},
   "outputs": [],
   "source": [
    "# Single stack approach\n",
    "\n",
    "class MinStack:\n",
    "\n",
    "    def __init__(self):\n",
    "        self.stack = []\n",
    "        self.min = sys.maxsize\n",
    "        \n",
    "    def push(self, val: int) -> None:\n",
    "        if val <= self.min:\n",
    "            self.stack.append(self.min)\n",
    "            self.min = val\n",
    "        self.stack.append(val)\n",
    "        \n",
    "    def pop(self) -> None:\n",
    "        val = self.stack.pop()\n",
    "        if val == self.min:\n",
    "            self.min = self.stack.pop()\n",
    "        \n",
    "    def top(self) -> int:\n",
    "        return self.stack[-1]\n",
    "        \n",
    "    def getMin(self) -> int:\n",
    "        return self.min\n",
    "        \n",
    "\n",
    "\n",
    "# Your MinStack object will be instantiated and called as such:\n",
    "# obj = MinStack()\n",
    "# obj.push(val)\n",
    "# obj.pop()\n",
    "# param_3 = obj.top()\n",
    "# param_4 = obj.getMin()"
   ]
  },
  {
   "cell_type": "code",
   "execution_count": null,
   "id": "b5c0fe15",
   "metadata": {},
   "outputs": [],
   "source": []
  },
  {
   "cell_type": "code",
   "execution_count": null,
   "id": "c1a30b65",
   "metadata": {},
   "outputs": [],
   "source": []
  },
  {
   "cell_type": "code",
   "execution_count": null,
   "id": "7afedc39",
   "metadata": {},
   "outputs": [],
   "source": []
  },
  {
   "cell_type": "code",
   "execution_count": null,
   "id": "72fbcd98",
   "metadata": {},
   "outputs": [],
   "source": []
  },
  {
   "cell_type": "code",
   "execution_count": null,
   "id": "61fb7620",
   "metadata": {},
   "outputs": [],
   "source": []
  },
  {
   "cell_type": "code",
   "execution_count": null,
   "id": "f5c2b955",
   "metadata": {},
   "outputs": [],
   "source": []
  },
  {
   "cell_type": "code",
   "execution_count": null,
   "id": "23106751",
   "metadata": {},
   "outputs": [],
   "source": []
  }
 ],
 "metadata": {
  "kernelspec": {
   "display_name": "Python 3",
   "language": "python",
   "name": "python3"
  },
  "language_info": {
   "codemirror_mode": {
    "name": "ipython",
    "version": 3
   },
   "file_extension": ".py",
   "mimetype": "text/x-python",
   "name": "python",
   "nbconvert_exporter": "python",
   "pygments_lexer": "ipython3",
   "version": "3.8.8"
  }
 },
 "nbformat": 4,
 "nbformat_minor": 5
}
