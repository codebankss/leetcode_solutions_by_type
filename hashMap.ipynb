{
 "cells": [
  {
   "cell_type": "code",
   "execution_count": 1,
   "id": "2d7fd047",
   "metadata": {},
   "outputs": [],
   "source": [
    "# Crude implementation of (int, int) hashMap"
   ]
  },
  {
   "cell_type": "code",
   "execution_count": 153,
   "id": "129d446d",
   "metadata": {},
   "outputs": [],
   "source": [
    "class hashMap:\n",
    "    def __init__(self):\n",
    "        self.size = 6\n",
    "        self.map = [None] * self.size\n",
    "    \n",
    "    def hashF(self, key):\n",
    "        return (key%self.size)\n",
    "    \n",
    "    def __setitem__(self, key, value):\n",
    "        hash_key = self.hashF(key)\n",
    "        paired_data = [key, [value]]\n",
    "        \n",
    "        if self.map[hash_key] is None:\n",
    "            self.map[hash_key] = paired_data\n",
    "            print(self.map)\n",
    "        else:\n",
    "            if self.map[hash_key][0] == key and value in self.map[hash_key][1]:\n",
    "                print(self.map)\n",
    "            elif self.map[hash_key][0] == key and value not in self.map[hash_key][1]:\n",
    "                self.map[hash_key][1].append(value)\n",
    "                print(self.map)\n",
    "    \n",
    "    def getMap(self):\n",
    "        print(self.map)\n",
    "    \n",
    "    def __getitem__(self, key):\n",
    "        hash_key = self.hashF(key)\n",
    "        \n",
    "        if self.map[hash_key] is not None:\n",
    "            print(\"Values at key \" + str(key) + \" are: \")\n",
    "            for i in self.map[hash_key][1]:\n",
    "                print(\"(\" + str(key) + \", \" + str(i) + \")\")\n",
    "        else:\n",
    "            print(\"No values available for key number \" + str(key))\n",
    "    \n",
    "    def __delitem__(self, key):\n",
    "        hash_key = self.hashF(key)\n",
    "        \n",
    "        if self.map[hash_key] is None:\n",
    "            print(\"Index \" + str(key) + \" is empty.\")\n",
    "        \n",
    "        self.map[hash_key][1].pop()\n",
    "        \n",
    "        if len(self.map[hash_key][1])==0:\n",
    "            self.map[hash_key] = None\n",
    "        \n",
    "            \n",
    "            "
   ]
  },
  {
   "cell_type": "code",
   "execution_count": 154,
   "id": "aedb9596",
   "metadata": {},
   "outputs": [],
   "source": [
    "a = hashMap()"
   ]
  },
  {
   "cell_type": "code",
   "execution_count": 155,
   "id": "3474ca4b",
   "metadata": {},
   "outputs": [
    {
     "name": "stdout",
     "output_type": "stream",
     "text": [
      "[None, [1, [3]], None, None, None, None]\n"
     ]
    }
   ],
   "source": [
    "a[1] = 3"
   ]
  },
  {
   "cell_type": "code",
   "execution_count": 156,
   "id": "117a76b4",
   "metadata": {},
   "outputs": [
    {
     "name": "stdout",
     "output_type": "stream",
     "text": [
      "[None, [1, [3, 5]], None, None, None, None]\n"
     ]
    }
   ],
   "source": [
    "a[1] = 5"
   ]
  },
  {
   "cell_type": "code",
   "execution_count": 157,
   "id": "d42d6264",
   "metadata": {},
   "outputs": [
    {
     "name": "stdout",
     "output_type": "stream",
     "text": [
      "Values at key 1 are: \n",
      "(1, 3)\n",
      "(1, 5)\n"
     ]
    }
   ],
   "source": [
    "a[1]"
   ]
  },
  {
   "cell_type": "code",
   "execution_count": 162,
   "id": "5d8415b3",
   "metadata": {},
   "outputs": [
    {
     "name": "stdout",
     "output_type": "stream",
     "text": [
      "Index 1 is empty.\n"
     ]
    },
    {
     "ename": "TypeError",
     "evalue": "'NoneType' object is not subscriptable",
     "output_type": "error",
     "traceback": [
      "\u001b[0;31m---------------------------------------------------------------------------\u001b[0m",
      "\u001b[0;31mTypeError\u001b[0m                                 Traceback (most recent call last)",
      "\u001b[0;32m<ipython-input-162-d982d7dc2a95>\u001b[0m in \u001b[0;36m<module>\u001b[0;34m\u001b[0m\n\u001b[0;32m----> 1\u001b[0;31m \u001b[0;32mdel\u001b[0m \u001b[0ma\u001b[0m\u001b[0;34m[\u001b[0m\u001b[0;36m1\u001b[0m\u001b[0;34m]\u001b[0m\u001b[0;34m\u001b[0m\u001b[0;34m\u001b[0m\u001b[0m\n\u001b[0m",
      "\u001b[0;32m<ipython-input-153-329c37c3bd54>\u001b[0m in \u001b[0;36m__delitem__\u001b[0;34m(self, key)\u001b[0m\n\u001b[1;32m     40\u001b[0m             \u001b[0mprint\u001b[0m\u001b[0;34m(\u001b[0m\u001b[0;34m\"Index \"\u001b[0m \u001b[0;34m+\u001b[0m \u001b[0mstr\u001b[0m\u001b[0;34m(\u001b[0m\u001b[0mkey\u001b[0m\u001b[0;34m)\u001b[0m \u001b[0;34m+\u001b[0m \u001b[0;34m\" is empty.\"\u001b[0m\u001b[0;34m)\u001b[0m\u001b[0;34m\u001b[0m\u001b[0;34m\u001b[0m\u001b[0m\n\u001b[1;32m     41\u001b[0m \u001b[0;34m\u001b[0m\u001b[0m\n\u001b[0;32m---> 42\u001b[0;31m         \u001b[0mself\u001b[0m\u001b[0;34m.\u001b[0m\u001b[0mmap\u001b[0m\u001b[0;34m[\u001b[0m\u001b[0mhash_key\u001b[0m\u001b[0;34m]\u001b[0m\u001b[0;34m[\u001b[0m\u001b[0;36m1\u001b[0m\u001b[0;34m]\u001b[0m\u001b[0;34m.\u001b[0m\u001b[0mpop\u001b[0m\u001b[0;34m(\u001b[0m\u001b[0;34m)\u001b[0m\u001b[0;34m\u001b[0m\u001b[0;34m\u001b[0m\u001b[0m\n\u001b[0m\u001b[1;32m     43\u001b[0m \u001b[0;34m\u001b[0m\u001b[0m\n\u001b[1;32m     44\u001b[0m         \u001b[0;32mif\u001b[0m \u001b[0mlen\u001b[0m\u001b[0;34m(\u001b[0m\u001b[0mself\u001b[0m\u001b[0;34m.\u001b[0m\u001b[0mmap\u001b[0m\u001b[0;34m[\u001b[0m\u001b[0mhash_key\u001b[0m\u001b[0;34m]\u001b[0m\u001b[0;34m[\u001b[0m\u001b[0;36m1\u001b[0m\u001b[0;34m]\u001b[0m\u001b[0;34m)\u001b[0m\u001b[0;34m==\u001b[0m\u001b[0;36m0\u001b[0m\u001b[0;34m:\u001b[0m\u001b[0;34m\u001b[0m\u001b[0;34m\u001b[0m\u001b[0m\n",
      "\u001b[0;31mTypeError\u001b[0m: 'NoneType' object is not subscriptable"
     ]
    }
   ],
   "source": [
    "del a[1]"
   ]
  },
  {
   "cell_type": "code",
   "execution_count": 161,
   "id": "86ea2137",
   "metadata": {},
   "outputs": [
    {
     "name": "stdout",
     "output_type": "stream",
     "text": [
      "[None, None, None, None, None, None]\n"
     ]
    }
   ],
   "source": [
    "a.getMap()"
   ]
  },
  {
   "cell_type": "code",
   "execution_count": null,
   "id": "e2068384",
   "metadata": {},
   "outputs": [],
   "source": []
  },
  {
   "cell_type": "code",
   "execution_count": null,
   "id": "44deefe3",
   "metadata": {},
   "outputs": [],
   "source": []
  },
  {
   "cell_type": "code",
   "execution_count": null,
   "id": "19e5db27",
   "metadata": {},
   "outputs": [],
   "source": []
  },
  {
   "cell_type": "code",
   "execution_count": 166,
   "id": "2cd77b0b",
   "metadata": {},
   "outputs": [],
   "source": [
    "class HashTable:\n",
    "    def __init__(self):\n",
    "        self.MAX = 100\n",
    "        self.arr = [[] for i in range(self.MAX)]\n",
    "    \n",
    "    def get_hash(self, key):\n",
    "        h = 0\n",
    "        for char in key:\n",
    "            h += ord(char)\n",
    "        return h%self.MAX\n",
    "    \n",
    "    def __setitem__(self, key, val):\n",
    "        h = self.get_hash(key)\n",
    "        \n",
    "        found = False\n",
    "        for idx, element in enumerate(self.arr[h]):\n",
    "            if len(element) == 2 and element[0] == key:\n",
    "                self.arr[h][idx] = (key, val)\n",
    "                found = True\n",
    "                break\n",
    "        \n",
    "        if not found:\n",
    "            self.arr[h].append((key, val))\n",
    "    \n",
    "    def __getitem__(self, key):\n",
    "        h = self.get_hash(key)\n",
    "        for element in self.arr[h]:\n",
    "            if element[0] == key:\n",
    "                return element[1]\n",
    "    \n",
    "    def __delitem__(self, key):\n",
    "        h = self.get_hash(key)\n",
    "        for index, element in enumerate(self.arr[h]):\n",
    "            if element[0] == key:\n",
    "                del self.arr[h][index]"
   ]
  },
  {
   "cell_type": "code",
   "execution_count": 167,
   "id": "38d115fe",
   "metadata": {},
   "outputs": [],
   "source": [
    "t = HashTable()\n",
    "t['march 6'] = 130\n",
    "t['march 1'] = 20\n",
    "t['dec 17']  = 27\n"
   ]
  },
  {
   "cell_type": "code",
   "execution_count": null,
   "id": "082e7081",
   "metadata": {},
   "outputs": [],
   "source": []
  },
  {
   "cell_type": "code",
   "execution_count": null,
   "id": "83984e38",
   "metadata": {},
   "outputs": [],
   "source": []
  },
  {
   "cell_type": "code",
   "execution_count": 198,
   "id": "217f4fea",
   "metadata": {},
   "outputs": [],
   "source": [
    "# S30 approach\n",
    "\n",
    "class Node:\n",
    "    def __init__(self, key, val):\n",
    "        self.key = key\n",
    "        self.val = val\n",
    "        self.next = None\n",
    "\n",
    "class MyHashMap:\n",
    "    def __init__(self):\n",
    "        self.hashmap = [None]*10000 \n",
    "    \n",
    "    def index(self, key):\n",
    "        return key%len(self.hashmap)\n",
    "    \n",
    "    def getPrev(self, index, key):\n",
    "        if(self.hashmap[index] is None):\n",
    "            self.hashmap[index] = Node(-1, -1)\n",
    "        \n",
    "        prev = self.hashmap[index] \n",
    "        \n",
    "        while((prev.next is not None) and (prev.next.key != key)):\n",
    "            prev = prev.next\n",
    "        \n",
    "        return prev\n",
    "    \n",
    "    def put(self, key, value):\n",
    "        index = self.index(key)\n",
    "        prev = self.getPrev(index, key)\n",
    "        \n",
    "        # if exists, then change the value, else add new node\n",
    "        \n",
    "        if(prev.next is None): \n",
    "            prev.next = Node(key, value)\n",
    "        else:\n",
    "            prev.next.val = value\n",
    "    \n",
    "    def get(self, key):\n",
    "        index = self.index(key)\n",
    "        prev = self.getPrev(index, key)\n",
    "        \n",
    "        # return the value if key is there, else return -1\n",
    "        \n",
    "        return (-1 if prev.next is None else prev.next.val)\n",
    "    \n",
    "    def remove(self, key):\n",
    "        index = self.index(key)\n",
    "        prev = self.getPrev(index, key)\n",
    "        \n",
    "        if prev.next is not None: # checking so that prev.next.next does not throw null pointer exception\n",
    "            prev.next = prev.next.next"
   ]
  },
  {
   "cell_type": "code",
   "execution_count": 199,
   "id": "81081515",
   "metadata": {},
   "outputs": [],
   "source": [
    "h = MyHashMap()"
   ]
  },
  {
   "cell_type": "code",
   "execution_count": 200,
   "id": "f3a54450",
   "metadata": {},
   "outputs": [],
   "source": [
    "h.put(1,1)"
   ]
  },
  {
   "cell_type": "code",
   "execution_count": 201,
   "id": "43d7de29",
   "metadata": {},
   "outputs": [],
   "source": [
    "h.put(2,2)"
   ]
  },
  {
   "cell_type": "code",
   "execution_count": 202,
   "id": "720367c6",
   "metadata": {},
   "outputs": [
    {
     "data": {
      "text/plain": [
       "1"
      ]
     },
     "execution_count": 202,
     "metadata": {},
     "output_type": "execute_result"
    }
   ],
   "source": [
    "h.get(1)"
   ]
  },
  {
   "cell_type": "code",
   "execution_count": 203,
   "id": "d81f1d78",
   "metadata": {},
   "outputs": [
    {
     "data": {
      "text/plain": [
       "-1"
      ]
     },
     "execution_count": 203,
     "metadata": {},
     "output_type": "execute_result"
    }
   ],
   "source": [
    "h.get(3)"
   ]
  },
  {
   "cell_type": "code",
   "execution_count": 204,
   "id": "ac61e3f8",
   "metadata": {},
   "outputs": [],
   "source": [
    "h.put(2,1)"
   ]
  },
  {
   "cell_type": "code",
   "execution_count": 205,
   "id": "57169118",
   "metadata": {},
   "outputs": [
    {
     "data": {
      "text/plain": [
       "1"
      ]
     },
     "execution_count": 205,
     "metadata": {},
     "output_type": "execute_result"
    }
   ],
   "source": [
    "h.get(2)"
   ]
  },
  {
   "cell_type": "code",
   "execution_count": 207,
   "id": "f063a339",
   "metadata": {},
   "outputs": [],
   "source": [
    "h.remove(10000)"
   ]
  },
  {
   "cell_type": "code",
   "execution_count": 208,
   "id": "a5192809",
   "metadata": {},
   "outputs": [
    {
     "data": {
      "text/plain": [
       "1"
      ]
     },
     "execution_count": 208,
     "metadata": {},
     "output_type": "execute_result"
    }
   ],
   "source": [
    "h.get(1)"
   ]
  },
  {
   "cell_type": "code",
   "execution_count": null,
   "id": "a38cc264",
   "metadata": {},
   "outputs": [],
   "source": []
  }
 ],
 "metadata": {
  "kernelspec": {
   "display_name": "Python 3",
   "language": "python",
   "name": "python3"
  },
  "language_info": {
   "codemirror_mode": {
    "name": "ipython",
    "version": 3
   },
   "file_extension": ".py",
   "mimetype": "text/x-python",
   "name": "python",
   "nbconvert_exporter": "python",
   "pygments_lexer": "ipython3",
   "version": "3.8.8"
  }
 },
 "nbformat": 4,
 "nbformat_minor": 5
}
