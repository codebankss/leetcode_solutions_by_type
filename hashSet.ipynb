{
 "cells": [
  {
   "cell_type": "code",
   "execution_count": 7,
   "id": "c254a58f",
   "metadata": {},
   "outputs": [],
   "source": [
    "class MyHashSet:\n",
    "    def __init__(self):\n",
    "        self.buckets = 1000\n",
    "        self.bucketItems = 1001\n",
    "        #self.hashSet = [[] for i in range(self.buckets)]\n",
    "        self.hashSet = [None] * self.buckets\n",
    "        \n",
    "    # hash 1\n",
    "    def hash1(self, key):\n",
    "        return key%self.buckets\n",
    "    \n",
    "    # hash 2\n",
    "    def hash2(self, key):\n",
    "        return key%self.bucketItems\n",
    "    \n",
    "    def add(self, key):\n",
    "        bucket = self.hash1(key)\n",
    "        bucketItems = self.hash2(key)\n",
    "        \n",
    "        if (self.hashSet[bucket] is None):\n",
    "            self.hashSet[bucket] = [None]*self.bucketItems\n",
    "            \n",
    "        self.hashSet[bucket][bucketItems] = True\n",
    "    \n",
    "    def remove(self, key):\n",
    "        bucket = self.hash1(key)\n",
    "        bucketItems = self.hash2(key)\n",
    "        \n",
    "        if self.hashSet[bucket] is None:\n",
    "            return\n",
    "        \n",
    "        self.hashSet[bucket][bucketItems] = False\n",
    "    \n",
    "    def contains(self, key):\n",
    "        bucket = self.hash1(key)\n",
    "        bucketItems = self.hash2(key)\n",
    "        \n",
    "        if self.hashSet[bucket] is None:\n",
    "            return False\n",
    "        \n",
    "        return self.hashSet[bucket][bucketItems]"
   ]
  },
  {
   "cell_type": "code",
   "execution_count": 8,
   "id": "75022925",
   "metadata": {},
   "outputs": [],
   "source": [
    "h = MyHashSet()"
   ]
  },
  {
   "cell_type": "code",
   "execution_count": 9,
   "id": "d4bc4b8d",
   "metadata": {},
   "outputs": [],
   "source": [
    "h.add(1)\n",
    "h.add(2)"
   ]
  },
  {
   "cell_type": "code",
   "execution_count": 10,
   "id": "cebc87e5",
   "metadata": {},
   "outputs": [
    {
     "data": {
      "text/plain": [
       "True"
      ]
     },
     "execution_count": 10,
     "metadata": {},
     "output_type": "execute_result"
    }
   ],
   "source": [
    "h.contains(1)"
   ]
  },
  {
   "cell_type": "code",
   "execution_count": 11,
   "id": "c4c08925",
   "metadata": {},
   "outputs": [
    {
     "data": {
      "text/plain": [
       "False"
      ]
     },
     "execution_count": 11,
     "metadata": {},
     "output_type": "execute_result"
    }
   ],
   "source": [
    "h.contains(3)"
   ]
  },
  {
   "cell_type": "code",
   "execution_count": 12,
   "id": "a829cd6d",
   "metadata": {},
   "outputs": [],
   "source": [
    "h.add(2)"
   ]
  },
  {
   "cell_type": "code",
   "execution_count": 13,
   "id": "095604a9",
   "metadata": {},
   "outputs": [
    {
     "data": {
      "text/plain": [
       "True"
      ]
     },
     "execution_count": 13,
     "metadata": {},
     "output_type": "execute_result"
    }
   ],
   "source": [
    "h.contains(2)"
   ]
  },
  {
   "cell_type": "code",
   "execution_count": 14,
   "id": "e3c0ae72",
   "metadata": {},
   "outputs": [],
   "source": [
    "h.remove(2)"
   ]
  },
  {
   "cell_type": "code",
   "execution_count": 15,
   "id": "758ca9ff",
   "metadata": {},
   "outputs": [
    {
     "data": {
      "text/plain": [
       "False"
      ]
     },
     "execution_count": 15,
     "metadata": {},
     "output_type": "execute_result"
    }
   ],
   "source": [
    "h.contains(2)"
   ]
  },
  {
   "cell_type": "code",
   "execution_count": null,
   "id": "17a02e1f",
   "metadata": {},
   "outputs": [],
   "source": []
  }
 ],
 "metadata": {
  "kernelspec": {
   "display_name": "Python 3",
   "language": "python",
   "name": "python3"
  },
  "language_info": {
   "codemirror_mode": {
    "name": "ipython",
    "version": 3
   },
   "file_extension": ".py",
   "mimetype": "text/x-python",
   "name": "python",
   "nbconvert_exporter": "python",
   "pygments_lexer": "ipython3",
   "version": "3.8.8"
  }
 },
 "nbformat": 4,
 "nbformat_minor": 5
}
