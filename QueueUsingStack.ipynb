{
 "cells": [
  {
   "cell_type": "code",
   "execution_count": 31,
   "id": "bfab90c4",
   "metadata": {},
   "outputs": [],
   "source": [
    "class MyQueue:\n",
    "\n",
    "    def __init__(self):\n",
    "        \n",
    "        self.inStack = []\n",
    "        self.outStack = []\n",
    "        \n",
    "    def push(self, x: int) -> None:\n",
    "        \"\"\"\n",
    "        Push element x to the back of queue.\n",
    "        \"\"\"\n",
    "        self.inStack.append(x)\n",
    "    \n",
    "    def transfer(self, in_stack, out_stack):\n",
    "        while len(in_stack) != 0:\n",
    "            out_stack.append(in_stack.pop())\n",
    "        \n",
    "\n",
    "    def pop(self) -> int:\n",
    "        \"\"\"\n",
    "        Removes the element from in front of queue and returns that element.\n",
    "        \"\"\"\n",
    "        \n",
    "        if (len(self.outStack) == 0):\n",
    "            # there will be a check here if we cannot have empty stack to check for null pointer exception\n",
    "            self.transfer(self.inStack, self.outStack)\n",
    "            \n",
    "        return self.outStack.pop()\n",
    "\n",
    "    def peek(self) -> int:\n",
    "        \"\"\" \n",
    "         Get the front element.\n",
    "        \"\"\"\n",
    "        if (len(self.outStack) == 0):\n",
    "            # there will be a check here if we cannot have empty stack to check for null pointer exception\n",
    "            self.transfer(self.inStack, self.outStack)\n",
    "            \n",
    "        return self.outStack[-1]\n",
    "        \n",
    "\n",
    "    def empty(self) -> bool:\n",
    "        \"\"\"\n",
    "        Returns whether the queue is empty.\n",
    "        \"\"\"\n",
    "        return len(self.inStack) == 0 and len(self.outStack) == 0\n",
    "        \n",
    "\n",
    "\n",
    "# Your MyQueue object will be instantiated and called as such:\n",
    "# obj = MyQueue()\n",
    "# obj.push(x)\n",
    "# param_2 = obj.pop()\n",
    "# param_3 = obj.peek()\n",
    "# param_4 = obj.empty()"
   ]
  },
  {
   "cell_type": "code",
   "execution_count": 32,
   "id": "f9061bae",
   "metadata": {},
   "outputs": [],
   "source": [
    "q = MyQueue()"
   ]
  },
  {
   "cell_type": "code",
   "execution_count": 33,
   "id": "f93b28d5",
   "metadata": {},
   "outputs": [],
   "source": [
    "q.push(1)\n",
    "q.push(2)"
   ]
  },
  {
   "cell_type": "code",
   "execution_count": 34,
   "id": "76c3429e",
   "metadata": {},
   "outputs": [
    {
     "data": {
      "text/plain": [
       "1"
      ]
     },
     "execution_count": 34,
     "metadata": {},
     "output_type": "execute_result"
    }
   ],
   "source": [
    "q.peek()"
   ]
  },
  {
   "cell_type": "code",
   "execution_count": 35,
   "id": "985e9087",
   "metadata": {},
   "outputs": [
    {
     "data": {
      "text/plain": [
       "1"
      ]
     },
     "execution_count": 35,
     "metadata": {},
     "output_type": "execute_result"
    }
   ],
   "source": [
    "q.pop()"
   ]
  },
  {
   "cell_type": "code",
   "execution_count": 36,
   "id": "addacbd1",
   "metadata": {},
   "outputs": [
    {
     "data": {
      "text/plain": [
       "False"
      ]
     },
     "execution_count": 36,
     "metadata": {},
     "output_type": "execute_result"
    }
   ],
   "source": [
    "q.empty()"
   ]
  },
  {
   "cell_type": "code",
   "execution_count": 37,
   "id": "17145f22",
   "metadata": {},
   "outputs": [
    {
     "data": {
      "text/plain": [
       "[]"
      ]
     },
     "execution_count": 37,
     "metadata": {},
     "output_type": "execute_result"
    }
   ],
   "source": [
    "q.inStack"
   ]
  },
  {
   "cell_type": "code",
   "execution_count": 39,
   "id": "7225880a",
   "metadata": {},
   "outputs": [
    {
     "data": {
      "text/plain": [
       "[2]"
      ]
     },
     "execution_count": 39,
     "metadata": {},
     "output_type": "execute_result"
    }
   ],
   "source": [
    "q.outStack"
   ]
  },
  {
   "cell_type": "code",
   "execution_count": null,
   "id": "5b10d32b",
   "metadata": {},
   "outputs": [],
   "source": []
  }
 ],
 "metadata": {
  "kernelspec": {
   "display_name": "Python 3",
   "language": "python",
   "name": "python3"
  },
  "language_info": {
   "codemirror_mode": {
    "name": "ipython",
    "version": 3
   },
   "file_extension": ".py",
   "mimetype": "text/x-python",
   "name": "python",
   "nbconvert_exporter": "python",
   "pygments_lexer": "ipython3",
   "version": "3.8.8"
  }
 },
 "nbformat": 4,
 "nbformat_minor": 5
}
